{
 "cells": [
  {
   "cell_type": "code",
   "execution_count": 1,
   "metadata": {},
   "outputs": [],
   "source": [
    "from pyspark.sql import SparkSession\n",
    "spark = SparkSession.builder.appName(\"Particionado\")\\\n",
    "    .master(\"local[5]\").getOrCreate()"
   ]
  },
  {
   "cell_type": "code",
   "execution_count": 2,
   "metadata": {},
   "outputs": [
    {
     "data": {
      "text/plain": [
       "5"
      ]
     },
     "execution_count": 2,
     "metadata": {},
     "output_type": "execute_result"
    }
   ],
   "source": [
    "df = spark.range(0,20)\n",
    "df.rdd.getNumPartitions()"
   ]
  },
  {
   "cell_type": "code",
   "execution_count": 3,
   "metadata": {},
   "outputs": [
    {
     "data": {
      "text/plain": [
       "10"
      ]
     },
     "execution_count": 3,
     "metadata": {},
     "output_type": "execute_result"
    }
   ],
   "source": [
    "rdd1 = spark.sparkContext.parallelize((0,20),10)\n",
    "rdd1.getNumPartitions()"
   ]
  },
  {
   "cell_type": "code",
   "execution_count": 4,
   "metadata": {},
   "outputs": [
    {
     "data": {
      "text/plain": [
       "10"
      ]
     },
     "execution_count": 4,
     "metadata": {},
     "output_type": "execute_result"
    }
   ],
   "source": [
    "rddDesdeArchivo = spark \\\n",
    "    .sparkContext \\\n",
    "    .textFile(\n",
    "    \"/home/sparky/Documentos/curso-apache-spark-platzi/files/deporte.csv\",10)\n",
    "rddDesdeArchivo.getNumPartitions()"
   ]
  },
  {
   "cell_type": "code",
   "execution_count": 6,
   "metadata": {},
   "outputs": [],
   "source": [
    "rddDesdeArchivo.saveAsTextFile(\"/home/sparky/Documentos/salidatexto\")"
   ]
  },
  {
   "cell_type": "code",
   "execution_count": 7,
   "metadata": {},
   "outputs": [
    {
     "name": "stdout",
     "output_type": "stream",
     "text": [
      "part-00000  part-00002\tpart-00004  part-00006\tpart-00008  _SUCCESS\r\n",
      "part-00001  part-00003\tpart-00005  part-00007\tpart-00009\r\n"
     ]
    }
   ],
   "source": [
    "!ls /home/sparky/Documentos/salidatexto"
   ]
  },
  {
   "cell_type": "code",
   "execution_count": 8,
   "metadata": {},
   "outputs": [
    {
     "name": "stdout",
     "output_type": "stream",
     "text": [
      "7,Athletics\r\n",
      "8,Ice Hockey\r\n",
      "9,Swimming\r\n",
      "10,Badminton\r\n",
      "11,Sailing\r\n"
     ]
    }
   ],
   "source": [
    "!head -n 5 /home/sparky/Documentos/salidatexto/part-00001"
   ]
  },
  {
   "cell_type": "code",
   "execution_count": 9,
   "metadata": {},
   "outputs": [],
   "source": [
    "rdd = spark.sparkContext.wholeTextFiles(\"/home/sparky/Documentos/salidatexto/*\")"
   ]
  },
  {
   "cell_type": "code",
   "execution_count": 10,
   "metadata": {},
   "outputs": [
    {
     "data": {
      "text/plain": [
       "[('file:/home/sparky/Documentos/salidatexto/part-00001',\n",
       "  '7,Athletics\\n8,Ice Hockey\\n9,Swimming\\n10,Badminton\\n11,Sailing\\n12,Biathlon\\n13,Gymnastics\\n14,Art Competitions\\n'),\n",
       " ('file:/home/sparky/Documentos/salidatexto/part-00005',\n",
       "  '36,Softball\\n37,Archery\\n38,Volleyball\\n39,Synchronized Swimming\\n40,Table Tennis\\n41,Nordic Combined\\n'),\n",
       " ('file:/home/sparky/Documentos/salidatexto/part-00009',\n",
       "  '61,Croquet\\n62,Jeu De Paume\\n63,Roque\\n64,Alpinism\\n65,Basque Pelota\\n66,Aeronautics\\n'),\n",
       " ('file:/home/sparky/Documentos/salidatexto/part-00006',\n",
       "  '42,Baseball\\n43,Rhythmic Gymnastics\\n44,Freestyle Skiing\\n45,Rugby Sevens\\n46,Trampolining\\n')]"
      ]
     },
     "execution_count": 10,
     "metadata": {},
     "output_type": "execute_result"
    }
   ],
   "source": [
    "rdd.take(4)"
   ]
  },
  {
   "cell_type": "code",
   "execution_count": 11,
   "metadata": {},
   "outputs": [],
   "source": [
    "lista = rdd.mapValues(lambda x: x.split()).collect()"
   ]
  },
  {
   "cell_type": "code",
   "execution_count": 13,
   "metadata": {},
   "outputs": [],
   "source": [
    "lista = [l[0] for l in lista ]\n",
    "lista.sort()"
   ]
  },
  {
   "cell_type": "code",
   "execution_count": 15,
   "metadata": {},
   "outputs": [],
   "source": [
    "rdd2 = spark\\\n",
    "    .sparkContext \\\n",
    "    .textFile(','.join(lista),10).map(lambda l : l.split(\",\"))"
   ]
  },
  {
   "cell_type": "code",
   "execution_count": 16,
   "metadata": {},
   "outputs": [
    {
     "data": {
      "text/plain": [
       "[['deporte_id', 'deporte'],\n",
       " ['1', 'Basketball'],\n",
       " ['2', 'Judo'],\n",
       " ['3', 'Football']]"
      ]
     },
     "execution_count": 16,
     "metadata": {},
     "output_type": "execute_result"
    }
   ],
   "source": [
    "rdd2.take(4)"
   ]
  },
  {
   "cell_type": "code",
   "execution_count": 17,
   "metadata": {},
   "outputs": [],
   "source": [
    "spark.stop()"
   ]
  },
  {
   "cell_type": "code",
   "execution_count": null,
   "metadata": {},
   "outputs": [],
   "source": []
  }
 ],
 "metadata": {
  "kernelspec": {
   "display_name": "Python 3",
   "language": "python",
   "name": "python3"
  },
  "language_info": {
   "codemirror_mode": {
    "name": "ipython",
    "version": 3
   },
   "file_extension": ".py",
   "mimetype": "text/x-python",
   "name": "python",
   "nbconvert_exporter": "python",
   "pygments_lexer": "ipython3",
   "version": "3.7.6"
  }
 },
 "nbformat": 4,
 "nbformat_minor": 4
}
