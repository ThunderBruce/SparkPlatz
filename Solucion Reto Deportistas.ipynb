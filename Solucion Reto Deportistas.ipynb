{
 "cells": [
  {
   "cell_type": "code",
   "execution_count": 1,
   "metadata": {},
   "outputs": [],
   "source": [
    "from pyspark import SparkContext"
   ]
  },
  {
   "cell_type": "code",
   "execution_count": 2,
   "metadata": {},
   "outputs": [],
   "source": [
    "sc = SparkContext(master=\"local\", appName=\"solucionRetoDeportistasBruce\")"
   ]
  },
  {
   "cell_type": "code",
   "execution_count": 4,
   "metadata": {},
   "outputs": [],
   "source": [
    "path = \"/home/sparky/Documentos/curso-apache-spark-platzi/files/\""
   ]
  },
  {
   "cell_type": "code",
   "execution_count": 5,
   "metadata": {},
   "outputs": [],
   "source": [
    "equiposOlimpicosRDD = sc.textFile(path+\"paises.csv\") \\\n",
    "    .map(lambda line : line.split(\",\"))"
   ]
  },
  {
   "cell_type": "code",
   "execution_count": 6,
   "metadata": {},
   "outputs": [
    {
     "data": {
      "text/plain": [
       "[['id', 'equipo', 'sigla'],\n",
       " ['1', '30. Februar', 'AUT'],\n",
       " ['2', 'A North American Team', 'MEX'],\n",
       " ['3', 'Acipactli', 'MEX'],\n",
       " ['4', 'Acturus', 'ARG'],\n",
       " ['5', 'Afghanistan', 'AFG'],\n",
       " ['6', 'Akatonbo', 'IRL'],\n",
       " ['7', 'Alain IV', 'SUI'],\n",
       " ['8', 'Albania', 'ALB'],\n",
       " ['9', 'Alcaid', 'POR']]"
      ]
     },
     "execution_count": 6,
     "metadata": {},
     "output_type": "execute_result"
    }
   ],
   "source": [
    "equiposOlimpicosRDD.take(10)"
   ]
  },
  {
   "cell_type": "code",
   "execution_count": 7,
   "metadata": {},
   "outputs": [],
   "source": [
    "deportistaOlimpicoRDD = sc.textFile(path+\"deportista.csv\") \\\n",
    "    .map(lambda l : l.split(\",\"))\n",
    "deportistaOlimpicoRDD2 = sc.textFile(path+\"deportista2.csv\") \\\n",
    "    .map(lambda l : l.split(\",\"))\n",
    "deportistaOlimpicoRDD = deportistaOlimpicoRDD \\\n",
    "    .union(deportistaOlimpicoRDD2)"
   ]
  },
  {
   "cell_type": "code",
   "execution_count": 8,
   "metadata": {},
   "outputs": [
    {
     "data": {
      "text/plain": [
       "135572"
      ]
     },
     "execution_count": 8,
     "metadata": {},
     "output_type": "execute_result"
    }
   ],
   "source": [
    "deportistaOlimpicoRDD.count()"
   ]
  },
  {
   "cell_type": "code",
   "execution_count": 9,
   "metadata": {},
   "outputs": [
    {
     "data": {
      "text/plain": [
       "[['deportista_id', 'nombre', 'genero', 'edad', 'altura', 'peso', 'equipo_id'],\n",
       " ['99999', 'Alexander Grant Alick Rennie', '1', '32', '182', '71', '967']]"
      ]
     },
     "execution_count": 9,
     "metadata": {},
     "output_type": "execute_result"
    }
   ],
   "source": [
    "deportistaOlimpicoRDD.top(2)"
   ]
  },
  {
   "cell_type": "code",
   "execution_count": 10,
   "metadata": {},
   "outputs": [],
   "source": [
    "resultadoRDD = sc.textFile(path+\"resultados.csv\") \\\n",
    "    .map(lambda l:l.split(\",\"))"
   ]
  },
  {
   "cell_type": "code",
   "execution_count": 11,
   "metadata": {},
   "outputs": [],
   "source": [
    "resultadoGanador = resultadoRDD.filter(lambda l : 'NA' not in l[1])"
   ]
  },
  {
   "cell_type": "code",
   "execution_count": 12,
   "metadata": {},
   "outputs": [
    {
     "data": {
      "text/plain": [
       "[['resultado_id', 'medalla', 'deportista_id', 'juego_id', 'evento_id'],\n",
       " ['4', 'Gold', '4', '2', '4'],\n",
       " ['38', 'Bronze', '15', '7', '19'],\n",
       " ['39', 'Bronze', '15', '7', '20'],\n",
       " ['41', 'Bronze', '16', '50', '14'],\n",
       " ['42', 'Bronze', '17', '17', '21'],\n",
       " ['43', 'Gold', '17', '17', '22'],\n",
       " ['45', 'Gold', '17', '17', '24'],\n",
       " ['49', 'Gold', '17', '17', '28'],\n",
       " ['51', 'Bronze', '17', '19', '22']]"
      ]
     },
     "execution_count": 12,
     "metadata": {},
     "output_type": "execute_result"
    }
   ],
   "source": [
    "resultadoGanador.take(10)"
   ]
  },
  {
   "cell_type": "code",
   "execution_count": 13,
   "metadata": {},
   "outputs": [],
   "source": [
    "deportistaGanador = resultadoGanador.map(lambda l: (l[2],l[1])) \\\n",
    "    .join(deportistaOlimpicoRDD.map(lambda l : (l[0],l[0:])))"
   ]
  },
  {
   "cell_type": "code",
   "execution_count": 14,
   "metadata": {},
   "outputs": [
    {
     "data": {
      "text/plain": [
       "[('4', ('Gold', ['4', 'Edgar Lindenau Aabye', '1', '34', '0', '0', '278'])),\n",
       " ('16',\n",
       "  ('Bronze',\n",
       "   ['16', 'Juhamatti Tapio Aaltonen', '1', '28', '184', '85', '350'])),\n",
       " ('20', ('Gold', ['20', 'Kjetil Andr Aamodt', '1', '20', '176', '85', '742'])),\n",
       " ('20',\n",
       "  ('Bronze', ['20', 'Kjetil Andr Aamodt', '1', '20', '176', '85', '742'])),\n",
       " ('20',\n",
       "  ('Silver', ['20', 'Kjetil Andr Aamodt', '1', '20', '176', '85', '742'])),\n",
       " ('20',\n",
       "  ('Bronze', ['20', 'Kjetil Andr Aamodt', '1', '20', '176', '85', '742'])),\n",
       " ('20',\n",
       "  ('Silver', ['20', 'Kjetil Andr Aamodt', '1', '20', '176', '85', '742'])),\n",
       " ('20', ('Gold', ['20', 'Kjetil Andr Aamodt', '1', '20', '176', '85', '742'])),\n",
       " ('20', ('Gold', ['20', 'Kjetil Andr Aamodt', '1', '20', '176', '85', '742'])),\n",
       " ('20', ('Gold', ['20', 'Kjetil Andr Aamodt', '1', '20', '176', '85', '742']))]"
      ]
     },
     "execution_count": 14,
     "metadata": {},
     "output_type": "execute_result"
    }
   ],
   "source": [
    "deportistaGanador.take(10)"
   ]
  },
  {
   "cell_type": "code",
   "execution_count": 15,
   "metadata": {},
   "outputs": [],
   "source": [
    "resultadoFinalRDD= deportistaGanador \\\n",
    "    .map(lambda l:(l[1][1][-1],l[1])) \\\n",
    "    .join(equiposOlimpicosRDD.map(lambda l:(l[0],l[2])))"
   ]
  },
  {
   "cell_type": "code",
   "execution_count": 16,
   "metadata": {},
   "outputs": [
    {
     "data": {
      "text/plain": [
       "[('874',\n",
       "  (('Bronze',\n",
       "    ['94140',\n",
       "     'Nadezhda Viktorovna Nadiya Petrova',\n",
       "     '2',\n",
       "     '22',\n",
       "     '178',\n",
       "     '65',\n",
       "     '874']),\n",
       "   'RUS')),\n",
       " ('1096',\n",
       "  (('Gold', ['23661', 'Ralph Cook Craig', '1', '22', '182', '73', '1096']),\n",
       "   'USA')),\n",
       " ('978',\n",
       "  (('Gold', ['90333', 'Elvra Ozolia Lse ', '2', '20', '176', '67', '978']),\n",
       "   'URS')),\n",
       " ('477',\n",
       "  (('Gold', ['39706', 'Oszkr Gerde', '1', '24', '0', '0', '477']), 'HUN')),\n",
       " ('716',\n",
       "  (('Gold',\n",
       "    ['56071', 'Richard John Dick Joyce', '1', '22', '194', '89', '716']),\n",
       "   'NZL')),\n",
       " ('1096',\n",
       "  (('Gold',\n",
       "    ['100529', 'Dorothy Gay Dot Richardson', '2', '34', '175', '60', '1096']),\n",
       "   'USA'))]"
      ]
     },
     "execution_count": 16,
     "metadata": {},
     "output_type": "execute_result"
    }
   ],
   "source": [
    "resultadoFinalRDD.takeSample(False,6,25)"
   ]
  },
  {
   "cell_type": "code",
   "execution_count": 23,
   "metadata": {},
   "outputs": [],
   "source": [
    "valoresMedallas = {\n",
    "    'Gold' : 7,\n",
    "    'Silver' : 5,\n",
    "    'Bronze' : 4\n",
    "}"
   ]
  },
  {
   "cell_type": "code",
   "execution_count": 26,
   "metadata": {},
   "outputs": [],
   "source": [
    "paisesMedallas = resultadoFinalRDD \\\n",
    "    .map(lambda l : (l[1][1],valoresMedallas[l[1][0][0]]))"
   ]
  },
  {
   "cell_type": "code",
   "execution_count": 27,
   "metadata": {},
   "outputs": [],
   "source": [
    "from operator import add\n",
    "conclusionRDD = paisesMedallas.reduceByKey((add)). \\\n",
    "sortBy(lambda x : x[1], ascending = False)"
   ]
  },
  {
   "cell_type": "code",
   "execution_count": 28,
   "metadata": {},
   "outputs": [
    {
     "data": {
      "text/plain": [
       "[('USA', 32137),\n",
       " ('URS', 14834),\n",
       " ('GBR', 10925),\n",
       " ('GER', 10896),\n",
       " ('FRA', 9265),\n",
       " ('ITA', 8755),\n",
       " ('SWE', 8110),\n",
       " ('CAN', 7209),\n",
       " ('AUS', 6755),\n",
       " ('HUN', 6142)]"
      ]
     },
     "execution_count": 28,
     "metadata": {},
     "output_type": "execute_result"
    }
   ],
   "source": [
    "conclusionRDD.take(10)"
   ]
  },
  {
   "cell_type": "code",
   "execution_count": 3,
   "metadata": {},
   "outputs": [],
   "source": [
    "sc.stop()"
   ]
  },
  {
   "cell_type": "code",
   "execution_count": null,
   "metadata": {},
   "outputs": [],
   "source": []
  }
 ],
 "metadata": {
  "kernelspec": {
   "display_name": "Python 3",
   "language": "python",
   "name": "python3"
  },
  "language_info": {
   "codemirror_mode": {
    "name": "ipython",
    "version": 3
   },
   "file_extension": ".py",
   "mimetype": "text/x-python",
   "name": "python",
   "nbconvert_exporter": "python",
   "pygments_lexer": "ipython3",
   "version": "3.7.6"
  }
 },
 "nbformat": 4,
 "nbformat_minor": 4
}
